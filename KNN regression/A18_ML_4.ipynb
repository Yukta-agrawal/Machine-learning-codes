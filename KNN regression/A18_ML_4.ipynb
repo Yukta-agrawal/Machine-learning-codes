{
  "cells": [
    {
      "cell_type": "code",
      "execution_count": null,
      "metadata": {
        "id": "48REwUgbMWsQ"
      },
      "outputs": [],
      "source": [
        "import math\n",
        "\n",
        "def euclidean_distance(p1,p2):\n",
        "   return math.sqrt((p1[0] - p2[0]) ** 2 + (p1[1] - p2[1]) ** 2)\n",
        "\n"
      ]
    },
    {
      "cell_type": "code",
      "execution_count": null,
      "metadata": {
        "id": "WnViD2-xMiNz"
      },
      "outputs": [],
      "source": [
        "length = [10.0, 11.0, 12.0, 7.0, 9.0, 8.0, 6.0, 15.0, 14.0, 7.0, 10.0, 13.0, 9.0, 5.0, 5.0]\n",
        "weight = [15.0, 6.0 , 14.0 ,9.0 ,14.0, 12.0, 11.0, 10.0, 8.0, 12.0, 6.0, 8.0, 7.0, 8.0 ,10.0]\n",
        "cost =   [ 45,37, 48, 33, 38, 40, 35, 50, 46, 35, 36, 44, 32, 30, 30]\n",
        "\n",
        "k = 9\n",
        "length1 = 7\n",
        "weight1 = 8"
      ]
    },
    {
      "cell_type": "code",
      "execution_count": null,
      "metadata": {
        "colab": {
          "base_uri": "https://localhost:8080/"
        },
        "id": "t8LyjVwbMb7G",
        "outputId": "0ca1bddc-8713-4117-c3b6-bc584ea05e3c"
      },
      "outputs": [
        {
          "name": "stdout",
          "output_type": "stream",
          "text": [
            "Predicted Cost for length 7 and weight 8: 34.22222222222222\n"
          ]
        }
      ],
      "source": [
        "def KNN_algo(length, weight, cost, k, length1, weight1):\n",
        "    distances = []\n",
        "    for i in range(len(length)):\n",
        "        dist = euclidean_distance((length1, weight1), (length[i], weight[i]))\n",
        "        distances.append((dist, cost[i]))\n",
        "\n",
        "    distances.sort(key=lambda x: x[0])\n",
        "\n",
        "    # Select k nearest neighbors and compute average cost\n",
        "    k_nearest_costs = [distances[i][1] for i in range(k)]\n",
        "    predicted_cost = sum(k_nearest_costs) / k\n",
        "\n",
        "    return predicted_cost\n",
        "\n",
        "predicted_cost = KNN_algo(length, weight, cost, k, length1, weight1)\n",
        "print(f'Predicted Cost for length {length1} and weight {weight1}: {predicted_cost}')"
      ]
    },
    {
      "cell_type": "code",
      "execution_count": null,
      "metadata": {
        "id": "7Q9OiZa0Mb4p"
      },
      "outputs": [],
      "source": []
    },
    {
      "cell_type": "code",
      "execution_count": null,
      "metadata": {
        "id": "4IkhvyanMb2V"
      },
      "outputs": [],
      "source": []
    },
    {
      "cell_type": "code",
      "execution_count": null,
      "metadata": {
        "id": "fl4BDi7xMbz-"
      },
      "outputs": [],
      "source": []
    },
    {
      "cell_type": "code",
      "execution_count": null,
      "metadata": {
        "id": "RXxnrxuEMbxc"
      },
      "outputs": [],
      "source": []
    },
    {
      "cell_type": "code",
      "execution_count": null,
      "metadata": {
        "id": "ALdIVhKMMbuz"
      },
      "outputs": [],
      "source": []
    }
  ],
  "metadata": {
    "colab": {
      "provenance": []
    },
    "kernelspec": {
      "display_name": "Python 3",
      "name": "python3"
    },
    "language_info": {
      "name": "python"
    }
  },
  "nbformat": 4,
  "nbformat_minor": 0
}
