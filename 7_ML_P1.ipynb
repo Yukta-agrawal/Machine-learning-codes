{
  "cells": [
    {
      "cell_type": "code",
      "execution_count": 3,
      "metadata": {
        "id": "qHZ4YG3ry9FH"
      },
      "outputs": [],
      "source": [
        "import pandas as pd\n",
        "import numpy as np"
      ]
    },
    {
      "cell_type": "code",
      "execution_count": 11,
      "metadata": {
        "id": "1e8dQCsJzD-0"
      },
      "outputs": [],
      "source": [
        "data = pd.read_csv(\"C:/Users/LENOVO/OneDrive/Desktop/git/Machine-learning-codes/ENJOYSPORT.csv\")"
      ]
    },
    {
      "cell_type": "code",
      "execution_count": 12,
      "metadata": {
        "colab": {
          "base_uri": "https://localhost:8080/",
          "height": 175
        },
        "id": "ZPKvq1cNzTDV",
        "outputId": "f3151b76-141d-43c8-87f4-3ec7c7ffa73f"
      },
      "outputs": [
        {
          "data": {
            "text/html": [
              "<div>\n",
              "<style scoped>\n",
              "    .dataframe tbody tr th:only-of-type {\n",
              "        vertical-align: middle;\n",
              "    }\n",
              "\n",
              "    .dataframe tbody tr th {\n",
              "        vertical-align: top;\n",
              "    }\n",
              "\n",
              "    .dataframe thead th {\n",
              "        text-align: right;\n",
              "    }\n",
              "</style>\n",
              "<table border=\"1\" class=\"dataframe\">\n",
              "  <thead>\n",
              "    <tr style=\"text-align: right;\">\n",
              "      <th></th>\n",
              "      <th>Sky</th>\n",
              "      <th>AirTemp</th>\n",
              "      <th>Humidity</th>\n",
              "      <th>Wind</th>\n",
              "      <th>Water</th>\n",
              "      <th>Forecast</th>\n",
              "      <th>EnjoySport</th>\n",
              "    </tr>\n",
              "  </thead>\n",
              "  <tbody>\n",
              "    <tr>\n",
              "      <th>0</th>\n",
              "      <td>Sunny</td>\n",
              "      <td>Warm</td>\n",
              "      <td>Normal</td>\n",
              "      <td>Strong</td>\n",
              "      <td>Warm</td>\n",
              "      <td>Same</td>\n",
              "      <td>1</td>\n",
              "    </tr>\n",
              "    <tr>\n",
              "      <th>1</th>\n",
              "      <td>Sunny</td>\n",
              "      <td>Warm</td>\n",
              "      <td>High</td>\n",
              "      <td>Strong</td>\n",
              "      <td>Warm</td>\n",
              "      <td>Same</td>\n",
              "      <td>1</td>\n",
              "    </tr>\n",
              "    <tr>\n",
              "      <th>2</th>\n",
              "      <td>Rainy</td>\n",
              "      <td>Cold</td>\n",
              "      <td>High</td>\n",
              "      <td>Strong</td>\n",
              "      <td>Warm</td>\n",
              "      <td>Change</td>\n",
              "      <td>0</td>\n",
              "    </tr>\n",
              "    <tr>\n",
              "      <th>3</th>\n",
              "      <td>Sunny</td>\n",
              "      <td>Warm</td>\n",
              "      <td>High</td>\n",
              "      <td>Strong</td>\n",
              "      <td>Cool</td>\n",
              "      <td>Change</td>\n",
              "      <td>1</td>\n",
              "    </tr>\n",
              "  </tbody>\n",
              "</table>\n",
              "</div>"
            ],
            "text/plain": [
              "     Sky AirTemp Humidity    Wind Water Forecast  EnjoySport\n",
              "0  Sunny    Warm   Normal  Strong  Warm     Same           1\n",
              "1  Sunny    Warm     High  Strong  Warm     Same           1\n",
              "2  Rainy    Cold     High  Strong  Warm   Change           0\n",
              "3  Sunny    Warm     High  Strong  Cool   Change           1"
            ]
          },
          "execution_count": 12,
          "metadata": {},
          "output_type": "execute_result"
        }
      ],
      "source": [
        "data"
      ]
    },
    {
      "cell_type": "code",
      "execution_count": 13,
      "metadata": {
        "id": "kzpUCQ6vzU2m"
      },
      "outputs": [],
      "source": [
        "concepts = np.array(data)"
      ]
    },
    {
      "cell_type": "code",
      "execution_count": 14,
      "metadata": {
        "colab": {
          "base_uri": "https://localhost:8080/"
        },
        "id": "JsfVpy6hzqO_",
        "outputId": "ad8c837d-24ca-4dc2-869e-f98e70742f05"
      },
      "outputs": [
        {
          "data": {
            "text/plain": [
              "array([['Sunny', 'Warm', 'Normal', 'Strong', 'Warm', 'Same', 1],\n",
              "       ['Sunny', 'Warm', 'High', 'Strong', 'Warm', 'Same', 1],\n",
              "       ['Rainy', 'Cold', 'High', 'Strong', 'Warm', 'Change', 0],\n",
              "       ['Sunny', 'Warm', 'High', 'Strong', 'Cool', 'Change', 1]],\n",
              "      dtype=object)"
            ]
          },
          "execution_count": 14,
          "metadata": {},
          "output_type": "execute_result"
        }
      ],
      "source": [
        "concepts"
      ]
    },
    {
      "cell_type": "code",
      "execution_count": 15,
      "metadata": {
        "id": "JP1eReoGzby4"
      },
      "outputs": [],
      "source": [
        "target = np.array(data)[: ,-1]"
      ]
    },
    {
      "cell_type": "code",
      "execution_count": 16,
      "metadata": {
        "colab": {
          "base_uri": "https://localhost:8080/"
        },
        "id": "EiYjF5kg2X27",
        "outputId": "b2685817-2f9d-4cf1-ac64-1befde81e63a"
      },
      "outputs": [
        {
          "data": {
            "text/plain": [
              "array([1, 1, 0, 1], dtype=object)"
            ]
          },
          "execution_count": 16,
          "metadata": {},
          "output_type": "execute_result"
        }
      ],
      "source": [
        "target"
      ]
    },
    {
      "cell_type": "code",
      "execution_count": 17,
      "metadata": {
        "id": "G1yAhEIT2ZQT"
      },
      "outputs": [],
      "source": [
        "def find_s(concepts):\n",
        "\n",
        "    num_attributes = len(concepts[0]) - 1\n",
        "    hypothesis = ['0'] * num_attributes\n",
        "\n",
        "    for concept in concepts:\n",
        "        if concept[-1] == 1:\n",
        "            for i in range(num_attributes):\n",
        "\n",
        "                if hypothesis[i] == '0':\n",
        "                    hypothesis[i] = concept[i]\n",
        "                elif hypothesis[i] != concept[i]:\n",
        "                    hypothesis[i] = '?'\n",
        "        print(\"Hypothesis:\", hypothesis)\n",
        "\n",
        "    return hypothesis"
      ]
    },
    {
      "cell_type": "code",
      "execution_count": 18,
      "metadata": {
        "colab": {
          "base_uri": "https://localhost:8080/"
        },
        "id": "YlF6-Vww31OA",
        "outputId": "d8a50194-e3d9-499e-ef4c-e6aad9d6a37d"
      },
      "outputs": [
        {
          "name": "stdout",
          "output_type": "stream",
          "text": [
            "Hypothesis: ['Sunny', 'Warm', 'Normal', 'Strong', 'Warm', 'Same']\n",
            "Hypothesis: ['Sunny', 'Warm', '?', 'Strong', 'Warm', 'Same']\n",
            "Hypothesis: ['Sunny', 'Warm', '?', 'Strong', 'Warm', 'Same']\n",
            "Hypothesis: ['Sunny', 'Warm', '?', 'Strong', '?', '?']\n",
            "Final hypothesis: ['Sunny', 'Warm', '?', 'Strong', '?', '?']\n"
          ]
        }
      ],
      "source": [
        "hypothesis = find_s(concepts)\n",
        "print(\"Final hypothesis:\", hypothesis)"
      ]
    },
    {
      "cell_type": "code",
      "execution_count": null,
      "metadata": {
        "id": "kCydbMSxOjir"
      },
      "outputs": [],
      "source": []
    }
  ],
  "metadata": {
    "colab": {
      "provenance": []
    },
    "kernelspec": {
      "display_name": "Python 3",
      "name": "python3"
    },
    "language_info": {
      "codemirror_mode": {
        "name": "ipython",
        "version": 3
      },
      "file_extension": ".py",
      "mimetype": "text/x-python",
      "name": "python",
      "nbconvert_exporter": "python",
      "pygments_lexer": "ipython3",
      "version": "3.12.0"
    }
  },
  "nbformat": 4,
  "nbformat_minor": 0
}
